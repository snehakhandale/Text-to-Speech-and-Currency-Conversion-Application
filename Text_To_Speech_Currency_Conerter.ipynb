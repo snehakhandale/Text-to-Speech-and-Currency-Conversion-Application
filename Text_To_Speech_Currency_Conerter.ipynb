{
  "nbformat": 4,
  "nbformat_minor": 0,
  "metadata": {
    "colab": {
      "provenance": []
    },
    "kernelspec": {
      "name": "python3",
      "display_name": "Python 3"
    },
    "language_info": {
      "name": "python"
    }
  },
  "cells": [
    {
      "cell_type": "code",
      "source": [
        "!pip install gtts"
      ],
      "metadata": {
        "colab": {
          "base_uri": "https://localhost:8080/"
        },
        "id": "rQQps5LVR8GA",
        "outputId": "b801e6cb-4a15-4f07-97bf-ad5d322b0b44"
      },
      "execution_count": 3,
      "outputs": [
        {
          "output_type": "stream",
          "name": "stdout",
          "text": [
            "Collecting gtts\n",
            "  Downloading gTTS-2.5.1-py3-none-any.whl (29 kB)\n",
            "Requirement already satisfied: requests<3,>=2.27 in /usr/local/lib/python3.10/dist-packages (from gtts) (2.31.0)\n",
            "Requirement already satisfied: click<8.2,>=7.1 in /usr/local/lib/python3.10/dist-packages (from gtts) (8.1.7)\n",
            "Requirement already satisfied: charset-normalizer<4,>=2 in /usr/local/lib/python3.10/dist-packages (from requests<3,>=2.27->gtts) (3.3.2)\n",
            "Requirement already satisfied: idna<4,>=2.5 in /usr/local/lib/python3.10/dist-packages (from requests<3,>=2.27->gtts) (3.7)\n",
            "Requirement already satisfied: urllib3<3,>=1.21.1 in /usr/local/lib/python3.10/dist-packages (from requests<3,>=2.27->gtts) (2.0.7)\n",
            "Requirement already satisfied: certifi>=2017.4.17 in /usr/local/lib/python3.10/dist-packages (from requests<3,>=2.27->gtts) (2024.2.2)\n",
            "Installing collected packages: gtts\n",
            "Successfully installed gtts-2.5.1\n"
          ]
        }
      ]
    },
    {
      "cell_type": "code",
      "execution_count": 4,
      "metadata": {
        "colab": {
          "base_uri": "https://localhost:8080/"
        },
        "id": "hzzTESXbRodt",
        "outputId": "fb564128-c588-4003-e738-2f23532c5b5e"
      },
      "outputs": [
        {
          "name": "stdout",
          "output_type": "stream",
          "text": [
            " please Enter the text to convert to speech: Hi Sneha How are you.\n"
          ]
        }
      ],
      "source": [
        "from gtts import gTTS\n",
        "import os\n",
        "\n",
        "def text_to_speech(text, lang='en'):\n",
        "    # Create a gTTS object\n",
        "    tts = gTTS(text=text, lang=lang, slow=False)\n",
        "\n",
        "    # Save the audio file\n",
        "    tts.save(\"output.mp3\")\n",
        "\n",
        "    # Play the audio file\n",
        "    os.system(\"afplay output.mp3\")  # For macOS\n",
        "\n",
        "if __name__ == \"__main__\":\n",
        "    input_text = input(\" please Enter the text to convert to speech: \")\n",
        "    text_to_speech(input_text)\n",
        "\n"
      ]
    },
    {
      "cell_type": "code",
      "source": [
        "import requests\n",
        "\n",
        "def fetch_currency_conversion(base_currency, target_currency):\n",
        "    # API endpoint URL\n",
        "    url = f\"https://api.exchangerate-api.com/v4/latest/{base_currency}\"\n",
        "\n",
        "    try:\n",
        "        # Send GET request to the API\n",
        "        response = requests.get(url)\n",
        "        response.raise_for_status()  # Raise an exception for any HTTP errors\n",
        "\n",
        "        # Parse the JSON response\n",
        "        data = response.json()\n",
        "\n",
        "        # Extract the conversion rate for the target currency\n",
        "        conversion_rate = data[\"rates\"][target_currency]\n",
        "\n",
        "        return conversion_rate\n",
        "\n",
        "    except requests.exceptions.RequestException as e:\n",
        "        print(\"Error fetching data from the API:\", e)\n",
        "        return None\n",
        "\n",
        "if __name__ == \"__main__\":\n",
        "    base_currency = input(\"Enter the base currency (e.g., USD, EUR): \").upper()\n",
        "    target_currency = input(\"Enter the target currency (e.g., GBP, JPY): \").upper()\n",
        "\n",
        "    conversion_rate = fetch_currency_conversion(base_currency, target_currency)\n",
        "    if conversion_rate is not None:\n",
        "        print(f\"1 {base_currency} = {conversion_rate} {target_currency}\")\n"
      ],
      "metadata": {
        "colab": {
          "base_uri": "https://localhost:8080/"
        },
        "id": "EUrBvBAORtJZ",
        "outputId": "bb7eeab7-32ea-4959-f077-ac5032afb29e"
      },
      "execution_count": 5,
      "outputs": [
        {
          "output_type": "stream",
          "name": "stdout",
          "text": [
            "Enter the base currency (e.g., USD, EUR): USD\n",
            "Enter the target currency (e.g., GBP, JPY): GBP\n",
            "1 USD = 0.798 GBP\n"
          ]
        }
      ]
    },
    {
      "cell_type": "code",
      "source": [],
      "metadata": {
        "id": "jCDlffwjSQHa"
      },
      "execution_count": null,
      "outputs": []
    }
  ]
}